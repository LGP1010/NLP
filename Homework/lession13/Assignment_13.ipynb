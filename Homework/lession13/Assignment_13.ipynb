{
 "cells": [
  {
   "cell_type": "markdown",
   "metadata": {},
   "source": [
    "1.复习课上内容。"
   ]
  },
  {
   "cell_type": "markdown",
   "metadata": {},
   "source": [
    "2.理论题："
   ]
  },
  {
   "cell_type": "markdown",
   "metadata": {},
   "source": [
    "2.1 简述倒排索引怎样能快速检索相应文档 ？\n",
    "#### 正排索引： 由文档指向关键词 倒排索引： 由关键词指向文档，通过先构建正排索引然后转置进而快速检索"
   ]
  },
  {
   "cell_type": "markdown",
   "metadata": {},
   "source": [
    "2.2 简述检索式对话系统优缺点 ？\n",
    "#### 优点：语法正确，相对简单，缺点：不够灵活，速度慢需要较大内存。"
   ]
  },
  {
   "cell_type": "markdown",
   "metadata": {},
   "source": [
    "2.3 简述生成式对话系统优缺点？\n",
    "#### 优点：灵活，内存占用少，缺点：不够稳定容易生成安全性回答，语义语法易缺失。"
   ]
  },
  {
   "cell_type": "markdown",
   "metadata": {},
   "source": [
    "2.4 什么是意图识别(intention detection)和槽填充(slot filling) ?\n",
    "#### 意图识别(intention detection)是分类问题，是将用户输入的自然语言会话进行划分，类别（classification）对应的就是用户意图，槽填充一般是序列标注问题"
   ]
  },
  {
   "cell_type": "markdown",
   "metadata": {},
   "source": [
    "2.5 简述阿里小蜜框架 ？\n",
    "#### 阿里小蜜框架融合了抽取式和生成式的优点，基于检索式对话系统和生成式模型进行得到结果，然后根据R的阈值判断是否选取生成式或者检索式结果。"
   ]
  },
  {
   "cell_type": "markdown",
   "metadata": {},
   "source": [
    "2.6 简述生成式对话系统如果处理对话历史 ？\n",
    "#### 用多RNN进行训练，第一个RNN处理第一个对话，后续以此生成多轮对话的embeding。"
   ]
  },
  {
   "cell_type": "markdown",
   "metadata": {},
   "source": [
    "2.7 简述生成对话系统解码器解码方法 ？\n",
    "#### 基于encoder-decoder结果进行编码和解码，将所有QA放入到encoder中，后续通过decoder进行解码得到不同回答"
   ]
  },
  {
   "cell_type": "markdown",
   "metadata": {},
   "source": [
    "2.8 简述检索式对话系统中用于排序的方法指标？\n",
    "#### TFIDF得到词的特征，之后用cosine函数计算相似性，BM25也可以用来计算相似性进行排序"
   ]
  },
  {
   "cell_type": "markdown",
   "metadata": {},
   "source": [
    "2.9 简述检索式对话中如何使用对话历史 ？\n",
    "#### 将多轮对话进行切词，然后组合，利用ngram模型选取概率最大的序列，之后进行抽取式提取进行排序取得最相似的句子进行输出；\n",
    "#### 也可以使用神经网络将历史对话进行特征提取，通过生成模型进行生成对话。"
   ]
  },
  {
   "cell_type": "markdown",
   "metadata": {},
   "source": [
    "2.10 简述基于规则的对话系统优缺点 ？\n",
    "#### Rule-based基于规则\n",
    "#### 优点：模型简单，语法正确\n",
    "#### 缺点：难以维护，人工成本大，计算机没有理解语言，仅仅是规则生成"
   ]
  }
 ],
 "metadata": {
  "kernelspec": {
   "display_name": "Python 3",
   "language": "python",
   "name": "python3"
  },
  "language_info": {
   "codemirror_mode": {
    "name": "ipython",
    "version": 3
   },
   "file_extension": ".py",
   "mimetype": "text/x-python",
   "name": "python",
   "nbconvert_exporter": "python",
   "pygments_lexer": "ipython3",
   "version": "3.6.4"
  }
 },
 "nbformat": 4,
 "nbformat_minor": 2
}
