{
 "cells": [
  {
   "cell_type": "markdown",
   "metadata": {},
   "source": [
    "## Assignment-05"
   ]
  },
  {
   "cell_type": "markdown",
   "metadata": {},
   "source": [
    "同学们，今天我们的学习了基本的机器学习概念，相比你已经对机器学习的这些方法有一个基本的认识了。值得说明的是，机器学习不仅仅是一系列方法，更重要的是一种思维体系，即：依据以往的、现有的数据，构建某种方法来解决未见过的问题。而且决策树，贝叶斯只是实现这个目标的一个方法，包括之后的神经网络。很有可能有一天，神经网络也会被淘汰，但是重要的是我们要理解机器学习的目标，就是尽可能的自动化解决未知的问题。"
   ]
  },
  {
   "cell_type": "markdown",
   "metadata": {},
   "source": [
    "## Part-1 Programming Review 编程回顾"
   ]
  },
  {
   "cell_type": "markdown",
   "metadata": {},
   "source": [
    "#### 1. Re-code the Linear-Regression Model using scikit-learning(10 points)"
   ]
  },
  {
   "cell_type": "code",
   "execution_count": 1,
   "metadata": {},
   "outputs": [],
   "source": [
    "# you code here\n",
    "# 由于 %matplotlib inline 的存在，当输入plt.plot(x,y_1)后，不必再输入 plt.show()，图像将自动显示出来\n",
    "%matplotlib inline\n",
    "import numpy as np"
   ]
  },
  {
   "cell_type": "code",
   "execution_count": 3,
   "metadata": {},
   "outputs": [],
   "source": [
    "random_data = np.random.random((20,2))"
   ]
  },
  {
   "cell_type": "code",
   "execution_count": 4,
   "metadata": {},
   "outputs": [
    {
     "data": {
      "text/plain": [
       "array([[0.58743987, 0.21554761],\n",
       "       [0.92662949, 0.42580069],\n",
       "       [0.17100126, 0.54977375],\n",
       "       [0.09515701, 0.03094847],\n",
       "       [0.81451921, 0.79317021],\n",
       "       [0.3086075 , 0.51239067],\n",
       "       [0.67145575, 0.02576901],\n",
       "       [0.33506799, 0.74029406],\n",
       "       [0.42699504, 0.07058655],\n",
       "       [0.47510037, 0.86492655],\n",
       "       [0.89054437, 0.03381696],\n",
       "       [0.52678324, 0.6932045 ],\n",
       "       [0.03146043, 0.09461783],\n",
       "       [0.51159218, 0.12958205],\n",
       "       [0.44332011, 0.60754759],\n",
       "       [0.79139196, 0.30034314],\n",
       "       [0.56647965, 0.06780451],\n",
       "       [0.46016877, 0.59247671],\n",
       "       [0.05177208, 0.37165368],\n",
       "       [0.83052604, 0.83818774]])"
      ]
     },
     "execution_count": 4,
     "metadata": {},
     "output_type": "execute_result"
    }
   ],
   "source": [
    "random_data"
   ]
  },
  {
   "cell_type": "code",
   "execution_count": 6,
   "metadata": {},
   "outputs": [],
   "source": [
    "import matplotlib.pyplot as plt\n",
    "import random"
   ]
  },
  {
   "cell_type": "code",
   "execution_count": 10,
   "metadata": {},
   "outputs": [],
   "source": [
    "x = random_data[:,0]\n",
    "y = random_data[:,1]"
   ]
  },
  {
   "cell_type": "code",
   "execution_count": 11,
   "metadata": {},
   "outputs": [],
   "source": [
    "y = [10.4 * i + 3 + random.randint(-3, 3) for i in x]"
   ]
  },
  {
   "cell_type": "code",
   "execution_count": 12,
   "metadata": {},
   "outputs": [
    {
     "data": {
      "text/plain": [
       "<matplotlib.collections.PathCollection at 0x1cb95201278>"
      ]
     },
     "execution_count": 12,
     "metadata": {},
     "output_type": "execute_result"
    },
    {
     "data": {
      "image/png": "[encoded data removed]",
      "text/plain": [
       "<matplotlib.figure.Figure at 0x1cb8b177cc0>"
      ]
     },
     "metadata": {},
     "output_type": "display_data"
    }
   ],
   "source": [
    "plt.scatter(x, y)"
   ]
  },
  {
   "cell_type": "code",
   "execution_count": 13,
   "metadata": {},
   "outputs": [],
   "source": [
    "from sklearn.linear_model import LinearRegression"
   ]
  },
  {
   "cell_type": "code",
   "execution_count": 15,
   "metadata": {},
   "outputs": [],
   "source": [
    "reg = LinearRegression().fit(x.reshape(-1,1), y)"
   ]
  },
  {
   "cell_type": "code",
   "execution_count": 16,
   "metadata": {},
   "outputs": [],
   "source": [
    "def f(x): \n",
    "    return reg.coef_ * x + reg.intercept_"
   ]
  },
  {
   "cell_type": "code",
   "execution_count": 18,
   "metadata": {},
   "outputs": [
    {
     "data": {
      "text/plain": [
       "[<matplotlib.lines.Line2D at 0x1cb962b4b38>]"
      ]
     },
     "execution_count": 18,
     "metadata": {},
     "output_type": "execute_result"
    },
    {
     "data": {
      "image/png": "[encoded data removed]",
      "text/plain": [
       "<matplotlib.figure.Figure at 0x1cb962b43c8>"
      ]
     },
     "metadata": {},
     "output_type": "display_data"
    }
   ],
   "source": [
    "plt.scatter(x, y)\n",
    "plt.plot(x, f(x), color='red')"
   ]
  },
  {
   "cell_type": "markdown",
   "metadata": {},
   "source": [
    "#### 2. Complete the unfinished KNN Model using pure python to solve the previous Line-Regression problem. (8 points)"
   ]
  },
  {
   "cell_type": "code",
   "execution_count": 27,
   "metadata": {},
   "outputs": [],
   "source": [
    "# you code here\n",
    "from collections import Counter"
   ]
  },
  {
   "cell_type": "code",
   "execution_count": 30,
   "metadata": {},
   "outputs": [
    {
     "name": "stdout",
     "output_type": "stream",
     "text": [
      "[0.11252672 0.94817044 0.92888352 0.17096226 0.49875083 0.42497865\n",
      " 0.73950866 0.04611177 0.80610189 0.15269432 0.46430857 0.85812694\n",
      " 0.41053133 0.89905317 0.06534979 0.42017554 0.59846877 0.56047405\n",
      " 0.31375709 0.38720897]\n"
     ]
    }
   ],
   "source": [
    "random_data = np.random.random((20, 2))\n",
    "X = random_data[:,0]\n",
    "y = random_data[:,1]\n",
    "print(y)"
   ]
  },
  {
   "cell_type": "code",
   "execution_count": 46,
   "metadata": {},
   "outputs": [
    {
     "name": "stdout",
     "output_type": "stream",
     "text": [
      "[0 1 1 0 1 1 1 0 1 0 1 1 1 1 0 1 1 1 0 0]\n"
     ]
    }
   ],
   "source": [
    "y = (y>0.4)+0\n",
    "print(y)"
   ]
  },
  {
   "cell_type": "code",
   "execution_count": 22,
   "metadata": {},
   "outputs": [],
   "source": [
    "from scipy.spatial.distance import cosine"
   ]
  },
  {
   "cell_type": "code",
   "execution_count": 47,
   "metadata": {},
   "outputs": [],
   "source": [
    "def model(x,y):\n",
    "    return [(i,j) for i,j in zip(x,y)]"
   ]
  },
  {
   "cell_type": "code",
   "execution_count": 24,
   "metadata": {},
   "outputs": [],
   "source": [
    "def distance(x1, x2):\n",
    "    return cosine(x1, x2)"
   ]
  },
  {
   "cell_type": "code",
   "execution_count": 55,
   "metadata": {},
   "outputs": [],
   "source": [
    "def predict(x, k=5):\n",
    "    print(model(X, y))\n",
    "    most_similars = sorted(model(X, y), key=lambda xi: distance(xi[0], x))[:k]\n",
    "    print('最近邻',most_similars)\n",
    "    #code here\n",
    "    tar_list = [x[1] for x in most_similars]\n",
    "    label = Counter(tar_list).most_common()[0][0]\n",
    "    return label"
   ]
  },
  {
   "cell_type": "code",
   "execution_count": 56,
   "metadata": {},
   "outputs": [
    {
     "name": "stdout",
     "output_type": "stream",
     "text": [
      "[(0.5631986399713307, 0), (0.14058722992578687, 1), (0.8041061364184383, 1), (0.5411435594382478, 0), (0.6666313328095892, 1), (0.5492154985595594, 1), (0.08260970008165791, 1), (0.5238711187828342, 0), (0.8900244528846127, 1), (0.5807429499396699, 0), (0.3758614377099241, 1), (0.8266571042769081, 1), (0.20698894871171625, 1), (0.8323650779974453, 1), (0.8579089335986019, 0), (0.426720890274665, 1), (0.7857651865163435, 1), (0.6563859717915717, 1), (0.13063203174328486, 0), (0.8375584525985679, 0)]\n",
      "最近邻 [(0.5631986399713307, 0), (0.14058722992578687, 1)]\n"
     ]
    },
    {
     "data": {
      "text/plain": [
       "0"
      ]
     },
     "execution_count": 56,
     "metadata": {},
     "output_type": "execute_result"
    }
   ],
   "source": [
    "predict(0.3,2)"
   ]
  },
  {
   "cell_type": "markdown",
   "metadata": {},
   "source": [
    "#### 3. Re-code the Decision Tree, which could sort the features by salience. (12 points)"
   ]
  },
  {
   "cell_type": "code",
   "execution_count": 4,
   "metadata": {},
   "outputs": [],
   "source": [
    "from collections import Counter\n",
    "import numpy as np"
   ]
  },
  {
   "cell_type": "code",
   "execution_count": 2,
   "metadata": {},
   "outputs": [],
   "source": [
    "# you code here\n",
    "def entropy(ele):\n",
    "    counter = Counter(ele)\n",
    "    pro = [counter[i]/len(ele) for i in ele]\n",
    "    return -sum(p*np.log2(p) for p in pro)"
   ]
  },
  {
   "cell_type": "code",
   "execution_count": 5,
   "metadata": {},
   "outputs": [
    {
     "data": {
      "text/plain": [
       "-0.0"
      ]
     },
     "execution_count": 5,
     "metadata": {},
     "output_type": "execute_result"
    }
   ],
   "source": [
    "entropy([0, 0, 0, 0])"
   ]
  },
  {
   "cell_type": "code",
   "execution_count": 21,
   "metadata": {},
   "outputs": [],
   "source": [
    "mock_data = {\n",
    "    'gender':['F', 'F', 'F', 'F', 'M', 'M', 'M'],\n",
    "    'income': ['+10', '-10', '+10', '+10', '+10', '+10', '-10'],\n",
    "    'family_number': [1, 1, 2, 1, 1, 1, 2],\n",
    "    'bought': [1, 1, 1, 0, 0, 0, 1],\n",
    "}"
   ]
  },
  {
   "cell_type": "code",
   "execution_count": 22,
   "metadata": {},
   "outputs": [
    {
     "name": "stdout",
     "output_type": "stream",
     "text": [
      "   bought  family_number gender income\n",
      "0       1              1      F    +10\n",
      "1       1              1      F    -10\n",
      "2       1              2      F    +10\n",
      "3       0              1      F    +10\n",
      "4       0              1      M    +10\n",
      "5       0              1      M    +10\n",
      "6       1              2      M    -10\n"
     ]
    }
   ],
   "source": [
    "import pandas as pd\n",
    "dataset = pd.DataFrame.from_dict(mock_data)\n",
    "print(dataset)"
   ]
  },
  {
   "cell_type": "code",
   "execution_count": 72,
   "metadata": {},
   "outputs": [
    {
     "name": "stdout",
     "output_type": "stream",
     "text": [
      "Looking in indexes: https://pypi.tuna.tsinghua.edu.cn/simple\n",
      "Collecting icecream\n",
      "  Downloading https://pypi.tuna.tsinghua.edu.cn/packages/8c/ec/821ef939e8e4f4306e7263afa7e2ce0b4c5da9e6e53d1cc97b01606035f8/icecream-2.0.0-py2.py3-none-any.whl\n",
      "Collecting executing>=0.3.1 (from icecream)\n",
      "  Downloading https://pypi.tuna.tsinghua.edu.cn/packages/99/bc/a5204db24bce24d2556ab75f91afbcf09d54d7ef215056608470d5fdb2d8/executing-0.4.4-py3-none-any.whl\n",
      "Collecting asttokens>=2.0.1 (from icecream)\n",
      "  Downloading https://pypi.tuna.tsinghua.edu.cn/packages/62/e9/247023d33dc110117b831cbfe47bb553e10d0edf92297ace745256402d42/asttokens-2.0.4-py2.py3-none-any.whl\n",
      "Requirement already satisfied: pygments>=2.2.0 in d:\\anaconda\\anzhuang\\lib\\site-packages (from icecream) (2.2.0)\n",
      "Requirement already satisfied: colorama>=0.3.9 in d:\\anaconda\\anzhuang\\lib\\site-packages (from icecream) (0.3.9)\n",
      "Requirement already satisfied: six in d:\\anaconda\\anzhuang\\lib\\site-packages (from asttokens>=2.0.1->icecream) (1.12.0)\n",
      "Installing collected packages: executing, asttokens, icecream\n",
      "Successfully installed asttokens-2.0.4 executing-0.4.4 icecream-2.0.0\n"
     ]
    },
    {
     "name": "stderr",
     "output_type": "stream",
     "text": [
      "WARNING: You are using pip version 19.2.3, however version 20.1.1 is available.\n",
      "You should consider upgrading via the 'python -m pip install --upgrade pip' command.\n"
     ]
    }
   ],
   "source": [
    "!pip install -i https://pypi.tuna.tsinghua.edu.cn/simple icecream"
   ]
  },
  {
   "cell_type": "code",
   "execution_count": 26,
   "metadata": {
    "scrolled": true
   },
   "outputs": [],
   "source": [
    "from icecream import ic"
   ]
  },
  {
   "cell_type": "code",
   "execution_count": 78,
   "metadata": {},
   "outputs": [],
   "source": [
    "def find_the_min_spilter(training_data: pd.DataFrame, target: str) -> str:\n",
    "    x_fields = set(training_data.columns.tolist()) - {target}\n",
    "    \n",
    "    spliter = None\n",
    "    min_entropy = float('inf')\n",
    "    \n",
    "    for f in x_fields:\n",
    "        ic(f)\n",
    "        values = set(training_data[f])\n",
    "        ic(values)\n",
    "        for v in values:\n",
    "            sub_spliter_1 = training_data[training_data[f] == v][target].tolist()\n",
    "            ic(sub_spliter_1)\n",
    "            entropy_1 = entropy(sub_spliter_1)\n",
    "            ic(entropy_1)\n",
    "            sub_spliter_2 = training_data[training_data[f] != v][target].tolist()\n",
    "            ic(sub_spliter_2)\n",
    "            entropy_2 = entropy(sub_spliter_2)\n",
    "            ic(entropy_2)\n",
    "            entropy_v = (len(sub_spliter_1)/len(training_data[f]))*entropy_1 + (len(sub_spliter_2)/len(training_data[f]))*entropy_2  # change here \n",
    "            ic(entropy_v)\n",
    "            \n",
    "            if entropy_v <= min_entropy:\n",
    "                min_entropy = entropy_v\n",
    "                spliter = (f, v)\n",
    "    \n",
    "    print('spliter is: {}'.format(spliter))\n",
    "    print('the min entropy is: {}'.format(min_entropy))\n",
    "    \n",
    "    return spliter"
   ]
  },
  {
   "cell_type": "code",
   "execution_count": 79,
   "metadata": {},
   "outputs": [
    {
     "name": "stderr",
     "output_type": "stream",
     "text": [
      "ic| f: 'income'\n",
      "ic| values: {'+10', '-10'}\n",
      "ic| sub_spliter_1: [1, 1, 0, 0, 0]\n",
      "ic| entropy_1: 2.384080545409061\n",
      "ic| sub_spliter_2: [1, 1]\n",
      "ic| entropy_2: -0.0\n",
      "ic| entropy_v: 1.7029146752921864\n",
      "ic| sub_spliter_1: [1, 1]\n",
      "ic| entropy_1: -0.0\n",
      "ic| sub_spliter_2: [1, 1, 0, 0, 0]\n",
      "ic| entropy_2: 2.384080545409061\n",
      "ic| entropy_v: 1.7029146752921864\n",
      "ic| f: 'family_number'\n",
      "ic| values: {1, 2}\n",
      "ic| sub_spliter_1: [1, 1, 0, 0, 0]\n",
      "ic| entropy_1: 2.384080545409061\n",
      "ic| sub_spliter_2: [1, 1]\n",
      "ic| entropy_2: -0.0\n",
      "ic| entropy_v: 1.7029146752921864\n",
      "ic| sub_spliter_1: [1, 1]\n",
      "ic| entropy_1: -0.0\n",
      "ic| sub_spliter_2: [1, 1, 0, 0, 0]\n",
      "ic| entropy_2: 2.384080545409061\n",
      "ic| entropy_v: 1.7029146752921864\n",
      "ic| f: 'gender'\n",
      "ic| values: {'F', 'M'}\n",
      "ic| sub_spliter_1: [1, 1, 1, 0]\n",
      "ic| entropy_1: 1.4338343733773984\n",
      "ic| sub_spliter_2: [0, 0, 1]\n",
      "ic| entropy_2: 1.3082708345352603\n",
      "ic| entropy_v: 1.3800214281593393\n",
      "ic| sub_spliter_1: [0, 0, 1]\n",
      "ic| entropy_1: 1.3082708345352603\n",
      "ic| sub_spliter_2: [1, 1, 1, 0]\n",
      "ic| entropy_2: 1.4338343733773984\n",
      "ic| entropy_v: 1.3800214281593393\n"
     ]
    },
    {
     "name": "stdout",
     "output_type": "stream",
     "text": [
      "spliter is: ('gender', 'M')\n",
      "the min entropy is: 1.3800214281593393\n"
     ]
    },
    {
     "data": {
      "text/plain": [
       "('gender', 'M')"
      ]
     },
     "execution_count": 79,
     "metadata": {},
     "output_type": "execute_result"
    }
   ],
   "source": [
    "find_the_min_spilter(dataset, 'bought')"
   ]
  },
  {
   "cell_type": "markdown",
   "metadata": {},
   "source": [
    "## Part-2 Question and Answer 问答"
   ]
  },
  {
   "cell_type": "markdown",
   "metadata": {},
   "source": [
    "#### 1. What's the *model*? why  all the models are wrong, but some are useful? (5 points) "
   ]
  },
  {
   "cell_type": "markdown",
   "metadata": {},
   "source": [
    "Ans:模型用于表示现实世界中的某个对象，模型或多或少的经过简化，这些模型都或多或少地“错”了，当模型能帮助我做出更好的决策并降低风险时，那么它就很有用。"
   ]
  },
  {
   "cell_type": "markdown",
   "metadata": {},
   "source": [
    "#### 2. What's the underfitting and overfitting? List the reasons that could make model overfitting or underfitting. (10 points)"
   ]
  },
  {
   "cell_type": "markdown",
   "metadata": {},
   "source": [
    "Ans:欠拟合是模型没有很好地捕捉到数据特征，不能够很好地拟合数据，具有高偏差的特点，过拟合是模型泛化能力太差，具有高方差的特点。\n",
    "过拟合的原因：\n",
    "数据样本量太少，或者是对数据进行抽样的时候，抽样出现问题\n",
    "数据中真正的样本少，而噪音大，模型学了太多的噪音\n",
    "参数太多，模型复杂度过高\n",
    "欠拟合的原因：\n",
    "特征量过少\n",
    "模型复杂度过低"
   ]
  },
  {
   "cell_type": "markdown",
   "metadata": {},
   "source": [
    "#### 3. What's the precision, recall, AUC, F1, F2score. What are they mainly target on? (12')"
   ]
  },
  {
   "cell_type": "markdown",
   "metadata": {},
   "source": [
    "Ans:准确率（正确率）=所有预测正确的样本/总的样本  （TP+TN）/总\n",
    "精确率=  将正类预测为正类 / 所有预测为正类 TP/（TP+FP）\n",
    "召回率 = 将正类预测为正类 / 所有正真的正类 TP/（TP+FN）\n",
    "F值 = 精确率 * 召回率 * (1+β^^2 ) / (β^^2 精确率 + 召回率) （β=1 为F1 β=2 为F2）\n",
    "AUC值为ROC曲线所覆盖的区域面积，显然，AUC越大，分类器分类效果越好。\n",
    "AUC = 1，是完美分类器，采用这个预测模型时，不管设定什么阈值都能得出完美预测。绝大多数预测的场合，不存在完美分类器。\n",
    "0.5 < AUC < 1，优于随机猜测。这个分类器（模型）妥善设定阈值的话，能有预测价值。\n",
    "AUC = 0.5，跟随机猜测一样（例：丢铜板），模型没有预测价值。\n",
    "AUC < 0.5，比随机猜测还差；但只要总是反预测而行，就优于随机猜测。\n",
    "主要用于评估模型的泛化能力"
   ]
  },
  {
   "cell_type": "markdown",
   "metadata": {},
   "source": [
    "#### 4. Based on our course and yourself mind, what's the machine learning?  (8')"
   ]
  },
  {
   "cell_type": "markdown",
   "metadata": {},
   "source": [
    "Ans:机器学习是一类算法的总称，这些算法企图从大量历史数据中挖掘出其中隐含的规律，并用于预测或者分类，机器学习的目标是使学到的函数很好地适用于“新样本”，而不仅仅是在训练样本上表现很好。学到的函数适用于新样本的能力，称为泛化（Generalization）能力。"
   ]
  },
  {
   "cell_type": "markdown",
   "metadata": {},
   "source": [
    "#### 5. \"正确定义了机器学习模型的评价标准(evaluation)， 问题基本上就已经解决一半\". 这句话是否正确？你是怎么看待的？ (8‘)"
   ]
  },
  {
   "cell_type": "code",
   "execution_count": null,
   "metadata": {},
   "outputs": [],
   "source": [
    "Ans:机器学习的目的是得到可以泛化的模型，即在前所未见的数据上表现很好的模型，而过拟合则是核心难点。\n",
    "    评价标准是衡量泛化能力的重要指标，确定了合适的评价标准可事半功倍。"
   ]
  },
  {
   "cell_type": "markdown",
   "metadata": {},
   "source": [
    "## Part-03 Programming Practice 编程练习"
   ]
  },
  {
   "cell_type": "markdown",
   "metadata": {},
   "source": [
    "1. In our course and previous practice, we complete some importance components of Decision Tree. In this problem, you need to build a **completed** Decision Tree Model. You show finish a `predicate()` function, which accepts three parameters **<gender, income, family_number>**, and outputs the predicated 'bought': 1 or 0.  (20 points)"
   ]
  },
  {
   "cell_type": "code",
   "execution_count": 32,
   "metadata": {},
   "outputs": [
    {
     "name": "stdout",
     "output_type": "stream",
     "text": [
      "   bought  family_number gender income\n",
      "0       1              1      F    +10\n",
      "1       1              1      F    -10\n",
      "2       1              2      F    +10\n",
      "3       0              1      F    +10\n",
      "4       0              1      M    +10\n",
      "5       0              1      M    +10\n",
      "6       1              2      M    -10\n"
     ]
    }
   ],
   "source": [
    "# you code here\n",
    "import pandas as pd\n",
    "dataset = pd.DataFrame.from_dict(mock_data)\n",
    "print(dataset)"
   ]
  },
  {
   "cell_type": "code",
   "execution_count": 97,
   "metadata": {},
   "outputs": [
    {
     "name": "stdout",
     "output_type": "stream",
     "text": [
      "   family_number gender income  bought\n",
      "0              1      F    +10       1\n",
      "1              1      F    -10       1\n",
      "2              2      F    +10       1\n",
      "3              1      F    +10       0\n",
      "4              1      M    +10       0\n",
      "5              1      M    +10       0\n",
      "6              2      M    -10       1\n"
     ]
    }
   ],
   "source": [
    "cols = list(dataset)\n",
    "cols.insert(3,cols.pop(cols.index('bought')))\n",
    "dataset = dataset.loc[:,cols]\n",
    "print(dataset)"
   ]
  },
  {
   "cell_type": "code",
   "execution_count": 35,
   "metadata": {},
   "outputs": [
    {
     "name": "stdout",
     "output_type": "stream",
     "text": [
      "3.417030077849957\n"
     ]
    }
   ],
   "source": [
    "def entropy(ele):\n",
    "    counter = Counter(ele)\n",
    "    pro = [counter[i]/len(ele) for i in ele]\n",
    "    return -sum(p*np.log2(p) for p in pro)\n",
    "print(entropy(dataset['bought']))"
   ]
  },
  {
   "cell_type": "code",
   "execution_count": 111,
   "metadata": {},
   "outputs": [
    {
     "name": "stdout",
     "output_type": "stream",
     "text": [
      "[[1, 'F', '+10', 1], [1, 'F', '-10', 1], [2, 'F', '+10', 1], [1, 'F', '+10', 0], [1, 'M', '+10', 0], [1, 'M', '+10', 0], [2, 'M', '-10', 1]] ['family_number', 'gender', 'income']\n",
      "0.5714285714285714\n",
      "0.42857142857142855\n",
      "0.4\n",
      "0.6\n",
      "1.0\n",
      "0.6666666666666666\n",
      "0.3333333333333333\n",
      "0.75\n",
      "0.25\n",
      "0.4\n",
      "0.6\n",
      "1.0\n",
      "最优特征 family_number\n",
      "0.4\n",
      "0.6\n",
      "1.0\n",
      "0.6666666666666666\n",
      "0.3333333333333333\n",
      "0.25\n",
      "0.75\n",
      "1.0\n",
      "最优特征 gender\n",
      "0.6666666666666666\n",
      "0.3333333333333333\n",
      "0.5\n",
      "0.5\n",
      "1.0\n",
      "最优特征 income\n",
      "决策树： {'family_number': {1: {'gender': {'M': 0, 'F': {'income': {'+10': 1, '-10': 1}}}}, 2: 1}}\n"
     ]
    }
   ],
   "source": [
    "from math import log\n",
    "import operator\n",
    "\n",
    "def calcShannonEnt(dataSet):  # 计算数据的熵(entropy)\n",
    "    numEntries=len(dataSet) \n",
    "    labelCounts={}\n",
    "    for featVec in dataSet:\n",
    "        currentLabel=featVec[-1] # 每行数据的最后一个字（类别）\n",
    "        if currentLabel not in labelCounts.keys():\n",
    "            labelCounts[currentLabel]=0\n",
    "        labelCounts[currentLabel]+=1  # 统计有多少个类以及每个类的数量\n",
    "    shannonEnt=0\n",
    "    for key in labelCounts:\n",
    "        prob=float(labelCounts[key])/numEntries # 计算单个类的熵值\n",
    "        shannonEnt-=prob*log(prob,2) # 累加每个类的熵值\n",
    "        print(prob)\n",
    "    return shannonEnt\n",
    "\n",
    "def createDataSet1(dataframe_): \n",
    "    dataSet=[]\n",
    "    labels = [e for e in dataframe_]\n",
    "#     labels = labels[0:3]\n",
    "    for i in range(len(labels)):\n",
    "        tmp = dataframe_[labels[i]].tolist()\n",
    "        dataSet.append(tmp)\n",
    "    dataSet = [[row[i] for row in dataSet] for i in range(len(dataSet[0]))]\n",
    "    label = labels[0:3]\n",
    "        \n",
    "\n",
    "    \n",
    "    return dataSet,label\n",
    "\n",
    "def splitDataSet(dataSet,axis,value): # 按某个特征分类后的数据\n",
    "    retDataSet=[]\n",
    "    for featVec in dataSet:\n",
    "        if featVec[axis]==value:\n",
    "            reducedFeatVec =featVec[:axis]\n",
    "            reducedFeatVec.extend(featVec[axis+1:])\n",
    "            retDataSet.append(reducedFeatVec)\n",
    "    return retDataSet\n",
    "\n",
    "def chooseBestFeatureToSplit(dataSet):  # 选择最优的分类特征\n",
    "    numFeatures = len(dataSet[0])-1\n",
    "    baseEntropy = calcShannonEnt(dataSet)  # 原始的熵\n",
    "    bestInfoGain = 0\n",
    "    bestFeature = -1\n",
    "    for i in range(numFeatures):\n",
    "        featList = [example[i] for example in dataSet]\n",
    "        uniqueVals = set(featList)\n",
    "        newEntropy = 0\n",
    "        for value in uniqueVals:\n",
    "            subDataSet = splitDataSet(dataSet,i,value)\n",
    "            prob =len(subDataSet)/float(len(dataSet))\n",
    "            newEntropy +=prob*calcShannonEnt(subDataSet)  # 按特征分类后的熵\n",
    "        infoGain = baseEntropy - newEntropy  # 原始熵与按特征分类后的熵的差值\n",
    "        if (infoGain>bestInfoGain):   \n",
    "            bestInfoGain=infoGain\n",
    "            bestFeature = i\n",
    "    return bestFeature\n",
    "\n",
    "def majorityCnt(classList):    \n",
    "    classCount={}\n",
    "    for vote in classList:\n",
    "        if vote not in classCount.keys():\n",
    "            classCount[vote]=0\n",
    "        classCount[vote]+=1\n",
    "    sortedClassCount = sorted(classCount.items(),key=operator.itemgetter(1),reverse=True)\n",
    "    return sortedClassCount[0][0]\n",
    "\n",
    "def createTree(dataSet,labels):\n",
    "    classList=[example[-1] for example in dataSet]  \n",
    "    if classList.count(classList[0])==len(classList):\n",
    "        return classList[0]\n",
    "    if len(dataSet[0])==1:\n",
    "        return majorityCnt(classList)\n",
    "    bestFeat=chooseBestFeatureToSplit(dataSet) #选择最优特征\n",
    "    bestFeatLabel=labels[bestFeat]\n",
    "    print('最优特征',bestFeatLabel)\n",
    "    myTree={bestFeatLabel:{}} #分类结果以字典形式保存\n",
    "    del(labels[bestFeat])\n",
    "    featValues=[example[bestFeat] for example in dataSet]\n",
    "    uniqueVals=set(featValues)\n",
    "    for value in uniqueVals:\n",
    "        subLabels=labels[:]\n",
    "        myTree[bestFeatLabel][value]=createTree(splitDataSet\\\n",
    "                            (dataSet,bestFeat,value),subLabels)\n",
    "    return myTree\n",
    "\n",
    "\n",
    "    return predict\n",
    "if __name__=='__main__':\n",
    "    dataSet, label=createDataSet1(dataset)  # 创造示列数据\n",
    "    print(dataSet,label)\n",
    "    print('决策树：',createTree(dataSet, label))  # 输出决策树模型结果\n"
   ]
  },
  {
   "cell_type": "markdown",
   "metadata": {},
   "source": []
  }
 ],
 "metadata": {
  "kernelspec": {
   "display_name": "Python 3",
   "language": "python",
   "name": "python3"
  },
  "language_info": {
   "codemirror_mode": {
    "name": "ipython",
    "version": 3
   },
   "file_extension": ".py",
   "mimetype": "text/x-python",
   "name": "python",
   "nbconvert_exporter": "python",
   "pygments_lexer": "ipython3",
   "version": "3.6.4"
  }
 },
 "nbformat": 4,
 "nbformat_minor": 2
}
