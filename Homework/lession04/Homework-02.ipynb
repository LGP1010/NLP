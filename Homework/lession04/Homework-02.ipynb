{
 "cells": [
  {
   "cell_type": "markdown",
   "metadata": {},
   "source": [
    "# Assignment 12"
   ]
  },
  {
   "cell_type": "markdown",
   "metadata": {},
   "source": [
    "### 1.复习上课内容"
   ]
  },
  {
   "cell_type": "markdown",
   "metadata": {},
   "source": [
    "### 2.回答以下理论问题"
   ]
  },
  {
   "cell_type": "markdown",
   "metadata": {},
   "source": [
    "#### 1. 请写一下TF-IDF的计算公式\n",
    "#### TF-IDF = count(文档中某一次条的出现次数) * log(文档总数/包含词条的文档数)"
   ]
  },
  {
   "cell_type": "markdown",
   "metadata": {},
   "source": [
    "#### 2. LDA算法的基本假设是什么？\n",
    "#### 假设文档主题遵循概率分布，假设主题中的词遵循概率分布"
   ]
  },
  {
   "cell_type": "markdown",
   "metadata": {},
   "source": [
    "#### 3. 在TextRank算法中构建图的权重是如何得到的？\n",
    "#### 通过词向量的相似性得到"
   ]
  },
  {
   "cell_type": "markdown",
   "metadata": {},
   "source": [
    "#### 4. 什么是命名实体识别？ 有什么应用场景？\n",
    "#### 将文本中的命名实体定位并分类为预先定义的类别，命名实体识别是信息检索、知识图谱、机器翻译、情感分析、问答系统等多项自然语言处理应用的基础任务"
   ]
  },
  {
   "cell_type": "markdown",
   "metadata": {},
   "source": [
    "#### 5.NLP主要有哪几类任务 ？\n",
    "#### 1. 序列标注：分词/POS Tag/NER/语义标注；2. 分类任务：文本分类/情感计算；3. 句子关系判断：Entailment/QA/自然语言推理；4. 生成式任务：机器翻译/文本摘要"
   ]
  },
  {
   "cell_type": "markdown",
   "metadata": {},
   "source": [
    "### 3.实践题"
   ]
  },
  {
   "cell_type": "markdown",
   "metadata": {},
   "source": [
    "#### 3.1 手动实现TextRank算法 (在新闻数据中随机提取100条新闻训练词向量和做做法测试）"
   ]
  },
  {
   "cell_type": "markdown",
   "metadata": {},
   "source": [
    " 提示：\n",
    " 1. 确定窗口，建立图链接。   \n",
    " 2. 通过词向量相似度确定图上边的权重\n",
    " 3. 根据公式实现算法迭代(d=0.85)"
   ]
  },
  {
   "cell_type": "code",
   "execution_count": 1,
   "metadata": {},
   "outputs": [],
   "source": [
    "import pandas as pd\n",
    "from gensim import corpora, models\n",
    "import jieba.posseg as jp # 词性标注\n",
    "# 读入数据\n",
    "data = pd.read_csv('./sqlResult_1558435.csv', encoding='gb18030')\n",
    "# 词性\n",
    "flags = ('n', 'nr', 'ns', 'nt', 'eng', 'v', 'd')"
   ]
  },
  {
   "cell_type": "code",
   "execution_count": 23,
   "metadata": {},
   "outputs": [],
   "source": [
    "news = data[\"content\"][1:3]"
   ]
  },
  {
   "cell_type": "code",
   "execution_count": 32,
   "metadata": {},
   "outputs": [
    {
     "name": "stdout",
     "output_type": "stream",
     "text": [
      "骁龙835作为唯一通过Windows 10桌面平台认证的ARM处理器，高通强调，不会因为只考虑性能而去屏蔽掉小核心。相反，他们正联手微软，找到一种适合桌面平台的、兼顾性能和功耗的完美方案。\r\n",
      "报道称，微软已经拿到了一些新的源码，以便Windows 10更好地理解big.little架构。\r\n",
      "资料显示，骁龙835作为一款集成了CPU、GPU、基带、蓝牙/Wi-Fi的SoC，比传统的Wintel方案可以节省至少30%的PCB空间。\r\n",
      "按计划，今年Q4，华硕、惠普、联想将首发骁龙835 Win10电脑，预计均是二合一形态的产品。\r\n",
      "当然，高通骁龙只是个开始，未来也许还能见到三星Exynos、联发科、华为麒麟、小米澎湃等进入Windows 10桌面平台。\r\n",
      "\n"
     ]
    }
   ],
   "source": [
    "print(news[1])"
   ]
  },
  {
   "cell_type": "code",
   "execution_count": null,
   "metadata": {},
   "outputs": [],
   "source": [
    "sentences_list = "
   ]
  },
  {
   "cell_type": "code",
   "execution_count": 35,
   "metadata": {},
   "outputs": [
    {
     "name": "stdout",
     "output_type": "stream",
     "text": [
      "[['Windows', '桌面', '平台', '认证', 'ARM', '处理器', '高通', '只', '性能', '去', '核心', '正', '联手', '找到', '适合', '桌面', '平台', '兼顾', '性能', '功耗', '方案', '报道', '称', '拿到', '源码', 'Windows', '更好', '理解', 'big', '架构', '资料', '显示', '集成', 'CPU', 'GPU', '基带', '蓝牙', 'Wi', 'Fi', 'SoC', '传统', 'Wintel', '方案', '节省', '至少', 'PCB', '空间', '按计划', 'Q4', '华硕', '惠普', '联想', '首发', 'Win10', '电脑', '均', '形态', '产品', '高通', '也许', '见到', 'Exynos', '联发科', '华为', '麒麟', '小米', '澎湃', 'Windows', '桌面', '平台'], ['一加', 'T', '搭载', 'mAh', '电池', 'DashCharge', '充', '规格', 'V', 'A', '电池', '缩水', '刘作虎', '一加', '手机', '做', '市面', '最', '大屏', '旗舰', '设定', '资料', '一加', '手机', '拥有', 'P', 'AMOLED', '显示屏', 'G', 'GB', 'RAM', 'GB', 'GB', 'ROM', '双', '摄像头', '备货', '量', '京东', '泄露', '信息', '一加', '售价', 'xx99']]\n"
     ]
    }
   ],
   "source": [
    "stop_word = []\n",
    "with open('./百度停用词表.txt',encoding = 'utf-8') as f:\n",
    "    for words in f.readlines():\n",
    "        stop_word.append(words.strip())\n",
    "# print(stop_word)\n",
    "\n",
    "word_ls = []\n",
    "for text in news:\n",
    "    words = [w.word for w in jp.cut(text) if w.flag in flags and w.word not in stop_word] # w.flag为w的词性\n",
    "    word_ls.append(words)\n",
    "print(word_ls)"
   ]
  },
  {
   "cell_type": "code",
   "execution_count": 43,
   "metadata": {},
   "outputs": [
    {
     "name": "stdout",
     "output_type": "stream",
     "text": [
      "骁龙835作为唯一通过Windows 10桌面平台认证的ARM处理器，高通强调，不会因为只考虑性能而去屏蔽掉小核心。相反，他们正联手微软，找到一种适合桌面平台的、兼顾性能和功耗的完美方案。\r\n",
      "报道称，微软已经拿到了一些新的源码，以便Windows 10更好地理解big.little架构。\r\n",
      "资料显示，骁龙835作为一款集成了CPU、GPU、基带、蓝牙/Wi-Fi的SoC，比传统的Wintel方案可以节省至少30%的PCB空间。\r\n",
      "按计划，今年Q4，华硕、惠普、联想将首发骁龙835 Win10电脑，预计均是二合一形态的产品。\r\n",
      "当然，高通骁龙只是个开始，未来也许还能见到三星Exynos、联发科、华为麒麟、小米澎湃等进入Windows 10桌面平台。\r\n",
      "\n",
      "根据词性和停用词表的切词结果： ['Windows', '桌面', '平台', '认证', 'ARM', '处理器', '高通', '只', '性能', '去', '核心', '正', '联手', '找到', '适合', '桌面', '平台', '兼顾', '性能', '功耗', '方案', '报道', '称', '拿到', '源码', 'Windows', '更好', '理解', 'big', '架构', '资料', '显示', '集成', 'CPU', 'GPU', '基带', '蓝牙', 'Wi', 'Fi', 'SoC', '传统', 'Wintel', '方案', '节省', '至少', 'PCB', '空间', '按计划', 'Q4', '华硕', '惠普', '联想', '首发', 'Win10', '电脑', '均', '形态', '产品', '高通', '也许', '见到', 'Exynos', '联发科', '华为', '麒麟', '小米', '澎湃', 'Windows', '桌面', '平台']\n",
      "{'Windows': {'平台', '桌面'}, '桌面': {'平台', '认证', 'Windows'}, '平台': {'桌面', '认证', 'Windows', 'ARM'}, '认证': {'平台', '处理器', '桌面', 'ARM'}, 'ARM': {'平台', '高通', '认证', '处理器'}, '处理器': {'高通', '认证', 'ARM', '只'}, '高通': {'性能', '处理器', 'ARM', '只'}, '只': {'性能', '去', '高通', '处理器'}, '性能': {'核心', '高通', '去', '只'}, '去': {'性能', '核心', '正', '只'}, '核心': {'性能', '正', '去', '联手'}, '正': {'找到', '核心', '去', '联手'}, '联手': {'核心', '正', '适合', '找到'}, '找到': {'适合', '正', '桌面', '联手'}, '适合': {'平台', '桌面', '找到', '联手'}, '兼顾': {'功耗', '平台', '性能', '桌面'}, '功耗': {'性能', '方案', '报道', '兼顾'}, '方案': {'性能', '功耗', '称', '报道'}, '报道': {'称', '功耗', '方案', '拿到'}, '称': {'拿到', '方案', '报道', '源码'}, '拿到': {'称', 'Windows', '报道', '源码'}, '源码': {'称', '拿到', 'Windows', '更好'}, '更好': {'big', 'Windows', '理解', '源码'}, '理解': {'big', 'Windows', '更好', '架构'}, 'big': {'架构', '理解', '资料', '更好'}, '架构': {'big', '资料', '显示', '理解'}, '资料': {'big', '显示', '集成', '架构'}, '显示': {'架构', '资料', '集成', 'CPU'}, '集成': {'CPU', '资料', '显示', 'GPU'}, 'CPU': {'GPU', '基带', '显示', '集成'}, 'GPU': {'CPU', '蓝牙', '基带', '集成'}, '基带': {'CPU', '蓝牙', 'Wi', 'GPU'}, '蓝牙': {'基带', 'Fi', 'Wi', 'GPU'}, 'Wi': {'基带', 'Fi', '蓝牙', 'SoC'}, 'Fi': {'传统', '蓝牙', 'SoC', 'Wi'}, 'SoC': {'Fi', 'Wi', 'Wintel', '传统'}, '传统': {'Fi', 'Wintel', 'SoC', '方案'}, 'Wintel': {'传统', '方案', 'SoC', '节省'}, '节省': {'方案', 'Wintel', 'PCB', '至少'}, '至少': {'方案', '空间', 'PCB', '节省'}, 'PCB': {'至少', '空间', '按计划', '节省'}, '空间': {'Q4', '按计划', 'PCB', '至少'}, '按计划': {'Q4', '空间', 'PCB', '华硕'}, 'Q4': {'惠普', '空间', '按计划', '华硕'}, '华硕': {'Q4', '惠普', '按计划', '联想'}, '惠普': {'首发', '联想', 'Q4', '华硕'}, '联想': {'首发', 'Win10', '惠普', '华硕'}, '首发': {'Win10', '电脑', '惠普', '联想'}, 'Win10': {'首发', '电脑', '联想', '均'}, '电脑': {'首发', 'Win10', '形态', '均'}, '均': {'Win10', '电脑', '形态', '产品'}, '形态': {'电脑', '高通', '产品', '均'}, '产品': {'形态', '高通', '也许', '均'}, '也许': {'见到', '高通', '产品', 'Exynos'}, '见到': {'高通', '也许', 'Exynos', '联发科'}, 'Exynos': {'见到', '也许', '华为', '联发科'}, '联发科': {'华为', '麒麟', '见到', 'Exynos'}, '华为': {'小米', '麒麟', 'Exynos', '联发科'}, '麒麟': {'小米', '澎湃', '华为', '联发科'}, '小米': {'麒麟', '澎湃', 'Windows', '华为'}, '澎湃': {'小米', '麒麟', '桌面', 'Windows'}}\n",
      "[('方案', 1.6943111580576744), ('高通', 1.682540188523867), ('Windows', 1.6693354917549077), ('性能', 1.45588931107382), ('桌面', 1.4501566392791694), ('平台', 1.2524072206701313), ('GPU', 0.9891719405923455), ('CPU', 0.9889488511975723), ('基带', 0.987942474595218), ('惠普', 0.987489801522122), ('集成', 0.9872398686684083), ('华硕', 0.9867969295270379), ('联想', 0.9865719409305069), ('蓝牙', 0.9849132318557213), ('Q4', 0.9841206160849035), ('显示', 0.9836403100149566), ('首发', 0.9836389912087141), ('Wi', 0.9802246803318573), ('按计划', 0.9796855451191168), ('Win10', 0.9788834115327464), ('资料', 0.9781912213405762), ('Fi', 0.9716643485075033), ('空间', 0.9713012112900928), ('电脑', 0.9700618634673971), ('架构', 0.9686332823932391), ('SoC', 0.9624196171914737), ('PCB', 0.9621838083643971), ('均', 0.9603550233710122), ('big', 0.9578569922908137), ('联发科', 0.949595492388193), ('华为', 0.9480471788578462), ('Exynos', 0.9469582254209935), ('麒麟', 0.9395521970925234), ('传统', 0.9390982283033156), ('至少', 0.9389569070908429), ('形态', 0.9362372254988078), ('理解', 0.9327033934983077), ('Wintel', 0.9321638825819065), ('节省', 0.9320977876265215), ('产品', 0.9282529035999295), ('见到', 0.9282447157495449), ('正', 0.9257074038679777), ('也许', 0.9245042620443853), ('联手', 0.9234062046637783), ('更好', 0.922152066489353), ('小米', 0.9194102208999196), ('核心', 0.9122439495826883), ('找到', 0.9087576354011032), ('源码', 0.9084286518127331), ('称', 0.9072223927394464), ('去', 0.9059799932605603), ('拿到', 0.9050338034242554), ('报道', 0.9027814609786278), ('澎湃', 0.8984868588776808), ('适合', 0.892849621330717), ('处理器', 0.8921769601195464), ('只', 0.8876648068257545), ('功耗', 0.8830892176480621), ('ARM', 0.8829362053246014), ('认证', 0.8807263529738111), ('兼顾', 0.8679578232689639)]\n"
     ]
    }
   ],
   "source": [
    "import numpy as np\n",
    "import jieba\n",
    "import jieba.posseg as pseg\n",
    " \n",
    "class TextRank(object):\n",
    "    \n",
    "    def __init__(self, sentence, window, alpha, iternum):\n",
    "        self.sentence = sentence\n",
    "        self.window = window\n",
    "        self.alpha = alpha\n",
    "        self.edge_dict = {} #记录节点的边连接字典\n",
    "        self.iternum = iternum#迭代次数\n",
    " \n",
    "    # 根据词性和停用词表的切词结果\n",
    "    def cutSentence(self):\n",
    "        tag_filter = ['n', 'nr', 'ns', 'nt', 'eng', 'v', 'd']\n",
    "        seg_result = pseg.cut(self.sentence)\n",
    "#         self.word_list = [s.word for s in seg_result if s.flag in tag_filter]\n",
    "        self.word_list = [w.word for w in seg_result if w.flag in flags and w.word not in stop_word]\n",
    "        print('根据词性和停用词表的切词结果：',self.word_list)\n",
    " \n",
    "    #根据窗口，构建每个节点的相邻节点,返回边的集合\n",
    "    def createNodes(self):\n",
    "        tmp_list = []\n",
    "        word_list_len = len(self.word_list)\n",
    "        for index, word in enumerate(self.word_list):\n",
    "            if word not in self.edge_dict.keys():\n",
    "                tmp_list.append(word)\n",
    "                tmp_set = set()\n",
    "                left = index - self.window + 1#窗口左边界\n",
    "                right = index + self.window#窗口右边界\n",
    "                if left < 0: left = 0\n",
    "                if right >= word_list_len: right = word_list_len\n",
    "                for i in range(left, right):\n",
    "                    if i == index:\n",
    "                        continue\n",
    "                    tmp_set.add(self.word_list[i])\n",
    "                self.edge_dict[word] = tmp_set\n",
    "        print(self.edge_dict)\n",
    " \n",
    "    #根据边的相连关系，构建矩阵\n",
    "    def createMatrix(self):\n",
    "        self.matrix = np.zeros([len(set(self.word_list)), len(set(self.word_list))])\n",
    "        self.word_index = {}#记录词的index\n",
    "        self.index_dict = {}#记录节点index对应的词\n",
    " \n",
    "        for i, v in enumerate(set(self.word_list)):\n",
    "            self.word_index[v] = i\n",
    "            self.index_dict[i] = v\n",
    "        for key in self.edge_dict.keys():\n",
    "            for w in self.edge_dict[key]:\n",
    "                self.matrix[self.word_index[key]][self.word_index[w]] = 1\n",
    "                self.matrix[self.word_index[w]][self.word_index[key]] = 1\n",
    "        #归一化\n",
    "        for j in range(self.matrix.shape[1]):\n",
    "            sum = 0\n",
    "            for i in range(self.matrix.shape[0]):\n",
    "                sum += self.matrix[i][j]\n",
    "            for i in range(self.matrix.shape[0]):\n",
    "                self.matrix[i][j] /= sum\n",
    " \n",
    "    #根据textrank公式计算权重\n",
    "    def calPR(self):\n",
    "        self.PR = np.ones([len(set(self.word_list)), 1])\n",
    "        for i in range(self.iternum):\n",
    "            self.PR = (1 - self.alpha) + self.alpha * np.dot(self.matrix, self.PR)\n",
    " \n",
    "    #输出词和相应的权重\n",
    "    def printResult(self):\n",
    "        word_pr = {}\n",
    "        for i in range(len(self.PR)):\n",
    "            word_pr[self.index_dict[i]] = self.PR[i][0]\n",
    "        res = sorted(word_pr.items(), key = lambda x : x[1], reverse=True)\n",
    "        print(res)\n",
    " \n",
    "if __name__ == '__main__':\n",
    "    s = news[1]\n",
    "    print(news[1])\n",
    "    tr = TextRank(s, 3, 0.85, 1000)\n",
    "    tr.cutSentence()\n",
    "    tr.createNodes()\n",
    "    tr.createMatrix()\n",
    "    tr.calPR()\n",
    "    tr.printResult()"
   ]
  },
  {
   "cell_type": "markdown",
   "metadata": {},
   "source": [
    "#### 选做 1.  提取新闻人物里的对话。(使用以上提取小数据即可）"
   ]
  },
  {
   "cell_type": "markdown",
   "metadata": {},
   "source": [
    "提示：    \n",
    "1.寻找预料里具有表示说的意思。    \n",
    "2.使用语法分析提取句子结构。    \n",
    "3.检测谓语是否有表示说的意思。"
   ]
  }
 ],
 "metadata": {
  "kernelspec": {
   "display_name": "Python 3",
   "language": "python",
   "name": "python3"
  },
  "language_info": {
   "codemirror_mode": {
    "name": "ipython",
    "version": 3
   },
   "file_extension": ".py",
   "mimetype": "text/x-python",
   "name": "python",
   "nbconvert_exporter": "python",
   "pygments_lexer": "ipython3",
   "version": "3.6.4"
  }
 },
 "nbformat": 4,
 "nbformat_minor": 2
}
